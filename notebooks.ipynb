{
 "cells": [
  {
   "cell_type": "markdown",
   "id": "d1c574d6",
   "metadata": {},
   "source": [
    "# **Preprocessing**"
   ]
  },
  {
   "cell_type": "code",
   "execution_count": 3,
   "id": "1502f2f9",
   "metadata": {},
   "outputs": [
    {
     "data": {
      "text/html": [
       "<div>\n",
       "<style scoped>\n",
       "    .dataframe tbody tr th:only-of-type {\n",
       "        vertical-align: middle;\n",
       "    }\n",
       "\n",
       "    .dataframe tbody tr th {\n",
       "        vertical-align: top;\n",
       "    }\n",
       "\n",
       "    .dataframe thead th {\n",
       "        text-align: right;\n",
       "    }\n",
       "</style>\n",
       "<table border=\"1\" class=\"dataframe\">\n",
       "  <thead>\n",
       "    <tr style=\"text-align: right;\">\n",
       "      <th></th>\n",
       "      <th>TransactionNo</th>\n",
       "      <th>CustomerNo</th>\n",
       "      <th>Date</th>\n",
       "      <th>ProductNo</th>\n",
       "      <th>ProductName</th>\n",
       "      <th>Price</th>\n",
       "      <th>Quantity</th>\n",
       "      <th>Country</th>\n",
       "    </tr>\n",
       "  </thead>\n",
       "  <tbody>\n",
       "    <tr>\n",
       "      <th>0</th>\n",
       "      <td>581482</td>\n",
       "      <td>17490.0</td>\n",
       "      <td>2019-12-09</td>\n",
       "      <td>22485</td>\n",
       "      <td>Set Of 2 Wooden Market Crates</td>\n",
       "      <td>21.47</td>\n",
       "      <td>12</td>\n",
       "      <td>United Kingdom</td>\n",
       "    </tr>\n",
       "    <tr>\n",
       "      <th>1</th>\n",
       "      <td>581475</td>\n",
       "      <td>13069.0</td>\n",
       "      <td>2019-12-09</td>\n",
       "      <td>22596</td>\n",
       "      <td>Christmas Star Wish List Chalkboard</td>\n",
       "      <td>10.65</td>\n",
       "      <td>36</td>\n",
       "      <td>United Kingdom</td>\n",
       "    </tr>\n",
       "    <tr>\n",
       "      <th>2</th>\n",
       "      <td>581475</td>\n",
       "      <td>13069.0</td>\n",
       "      <td>2019-12-09</td>\n",
       "      <td>23235</td>\n",
       "      <td>Storage Tin Vintage Leaf</td>\n",
       "      <td>11.53</td>\n",
       "      <td>12</td>\n",
       "      <td>United Kingdom</td>\n",
       "    </tr>\n",
       "    <tr>\n",
       "      <th>3</th>\n",
       "      <td>581475</td>\n",
       "      <td>13069.0</td>\n",
       "      <td>2019-12-09</td>\n",
       "      <td>23272</td>\n",
       "      <td>Tree T-Light Holder Willie Winkie</td>\n",
       "      <td>10.65</td>\n",
       "      <td>12</td>\n",
       "      <td>United Kingdom</td>\n",
       "    </tr>\n",
       "    <tr>\n",
       "      <th>4</th>\n",
       "      <td>581475</td>\n",
       "      <td>13069.0</td>\n",
       "      <td>2019-12-09</td>\n",
       "      <td>23239</td>\n",
       "      <td>Set Of 4 Knick Knack Tins Poppies</td>\n",
       "      <td>11.94</td>\n",
       "      <td>6</td>\n",
       "      <td>United Kingdom</td>\n",
       "    </tr>\n",
       "    <tr>\n",
       "      <th>...</th>\n",
       "      <td>...</td>\n",
       "      <td>...</td>\n",
       "      <td>...</td>\n",
       "      <td>...</td>\n",
       "      <td>...</td>\n",
       "      <td>...</td>\n",
       "      <td>...</td>\n",
       "      <td>...</td>\n",
       "    </tr>\n",
       "    <tr>\n",
       "      <th>536345</th>\n",
       "      <td>C536548</td>\n",
       "      <td>12472.0</td>\n",
       "      <td>2018-12-01</td>\n",
       "      <td>22168</td>\n",
       "      <td>Organiser Wood Antique White</td>\n",
       "      <td>18.96</td>\n",
       "      <td>-2</td>\n",
       "      <td>Germany</td>\n",
       "    </tr>\n",
       "    <tr>\n",
       "      <th>536346</th>\n",
       "      <td>C536548</td>\n",
       "      <td>12472.0</td>\n",
       "      <td>2018-12-01</td>\n",
       "      <td>21218</td>\n",
       "      <td>Red Spotty Biscuit Tin</td>\n",
       "      <td>14.09</td>\n",
       "      <td>-3</td>\n",
       "      <td>Germany</td>\n",
       "    </tr>\n",
       "    <tr>\n",
       "      <th>536347</th>\n",
       "      <td>C536548</td>\n",
       "      <td>12472.0</td>\n",
       "      <td>2018-12-01</td>\n",
       "      <td>20957</td>\n",
       "      <td>Porcelain Hanging Bell Small</td>\n",
       "      <td>11.74</td>\n",
       "      <td>-1</td>\n",
       "      <td>Germany</td>\n",
       "    </tr>\n",
       "    <tr>\n",
       "      <th>536348</th>\n",
       "      <td>C536548</td>\n",
       "      <td>12472.0</td>\n",
       "      <td>2018-12-01</td>\n",
       "      <td>22580</td>\n",
       "      <td>Advent Calendar Gingham Sack</td>\n",
       "      <td>16.35</td>\n",
       "      <td>-4</td>\n",
       "      <td>Germany</td>\n",
       "    </tr>\n",
       "    <tr>\n",
       "      <th>536349</th>\n",
       "      <td>C536548</td>\n",
       "      <td>12472.0</td>\n",
       "      <td>2018-12-01</td>\n",
       "      <td>22767</td>\n",
       "      <td>Triple Photo Frame Cornice</td>\n",
       "      <td>20.45</td>\n",
       "      <td>-2</td>\n",
       "      <td>Germany</td>\n",
       "    </tr>\n",
       "  </tbody>\n",
       "</table>\n",
       "<p>536350 rows × 8 columns</p>\n",
       "</div>"
      ],
      "text/plain": [
       "       TransactionNo  CustomerNo       Date ProductNo  \\\n",
       "0             581482     17490.0 2019-12-09     22485   \n",
       "1             581475     13069.0 2019-12-09     22596   \n",
       "2             581475     13069.0 2019-12-09     23235   \n",
       "3             581475     13069.0 2019-12-09     23272   \n",
       "4             581475     13069.0 2019-12-09     23239   \n",
       "...              ...         ...        ...       ...   \n",
       "536345       C536548     12472.0 2018-12-01     22168   \n",
       "536346       C536548     12472.0 2018-12-01     21218   \n",
       "536347       C536548     12472.0 2018-12-01     20957   \n",
       "536348       C536548     12472.0 2018-12-01     22580   \n",
       "536349       C536548     12472.0 2018-12-01     22767   \n",
       "\n",
       "                                ProductName  Price  Quantity         Country  \n",
       "0             Set Of 2 Wooden Market Crates  21.47        12  United Kingdom  \n",
       "1       Christmas Star Wish List Chalkboard  10.65        36  United Kingdom  \n",
       "2                  Storage Tin Vintage Leaf  11.53        12  United Kingdom  \n",
       "3         Tree T-Light Holder Willie Winkie  10.65        12  United Kingdom  \n",
       "4         Set Of 4 Knick Knack Tins Poppies  11.94         6  United Kingdom  \n",
       "...                                     ...    ...       ...             ...  \n",
       "536345         Organiser Wood Antique White  18.96        -2         Germany  \n",
       "536346               Red Spotty Biscuit Tin  14.09        -3         Germany  \n",
       "536347         Porcelain Hanging Bell Small  11.74        -1         Germany  \n",
       "536348         Advent Calendar Gingham Sack  16.35        -4         Germany  \n",
       "536349           Triple Photo Frame Cornice  20.45        -2         Germany  \n",
       "\n",
       "[536350 rows x 8 columns]"
      ]
     },
     "execution_count": 3,
     "metadata": {},
     "output_type": "execute_result"
    }
   ],
   "source": [
    "import pandas as pd\n",
    "\n",
    "df = pd.read_csv(\"Sales Transaction v.4a.csv\")\n",
    "\n",
    "custom_order = ['TransactionNo', 'CustomerNo', 'Date', 'ProductNo', 'ProductName', 'Price', 'Quantity', 'Country']\n",
    "df = df[custom_order]\n",
    "df['Date'] = pd.to_datetime(df['Date'])\n",
    "df"
   ]
  },
  {
   "cell_type": "code",
   "execution_count": 4,
   "id": "1f3e5fc6",
   "metadata": {},
   "outputs": [
    {
     "name": "stdout",
     "output_type": "stream",
     "text": [
      "<class 'pandas.core.frame.DataFrame'>\n",
      "RangeIndex: 536350 entries, 0 to 536349\n",
      "Data columns (total 8 columns):\n",
      " #   Column         Non-Null Count   Dtype         \n",
      "---  ------         --------------   -----         \n",
      " 0   TransactionNo  536350 non-null  object        \n",
      " 1   CustomerNo     536295 non-null  float64       \n",
      " 2   Date           536350 non-null  datetime64[ns]\n",
      " 3   ProductNo      536350 non-null  object        \n",
      " 4   ProductName    536350 non-null  object        \n",
      " 5   Price          536350 non-null  float64       \n",
      " 6   Quantity       536350 non-null  int64         \n",
      " 7   Country        536350 non-null  object        \n",
      "dtypes: datetime64[ns](1), float64(2), int64(1), object(4)\n",
      "memory usage: 32.7+ MB\n"
     ]
    }
   ],
   "source": [
    "df.info()"
   ]
  },
  {
   "cell_type": "code",
   "execution_count": 5,
   "id": "5a789c28",
   "metadata": {},
   "outputs": [
    {
     "name": "stdout",
     "output_type": "stream",
     "text": [
      "Cek missing value:\n",
      "TransactionNo     0\n",
      "CustomerNo       55\n",
      "Date              0\n",
      "ProductNo         0\n",
      "ProductName       0\n",
      "Price             0\n",
      "Quantity          0\n",
      "Country           0\n",
      "dtype: int64\n",
      "Cek duplicated value: 5200\n"
     ]
    }
   ],
   "source": [
    "print(f'Cek missing value:\\n{df.isnull().sum()}')\n",
    "print(f'Cek duplicated value: {df.duplicated().sum()}')"
   ]
  },
  {
   "cell_type": "code",
   "execution_count": 6,
   "id": "fb5bf962",
   "metadata": {},
   "outputs": [
    {
     "name": "stdout",
     "output_type": "stream",
     "text": [
      "Cek missing value:\n",
      "TransactionNo    0\n",
      "CustomerNo       0\n",
      "Date             0\n",
      "ProductNo        0\n",
      "ProductName      0\n",
      "Price            0\n",
      "Quantity         0\n",
      "Country          0\n",
      "dtype: int64\n",
      "Cek duplicated value: 0\n"
     ]
    }
   ],
   "source": [
    "df = df.dropna()\n",
    "df = df.drop_duplicates()\n",
    "print(f'Cek missing value:\\n{df.isnull().sum()}')\n",
    "print(f'Cek duplicated value: {df.duplicated().sum()}')\n",
    "\n",
    "df['CustomerNo'] = df['CustomerNo'].astype('int')\n",
    "df = df[df['Quantity'] >= 0]\n",
    "df = df.sort_values(by='Date')\n",
    "df.to_csv('df_cleaned.csv', index=False)"
   ]
  },
  {
   "cell_type": "markdown",
   "id": "09c576df",
   "metadata": {},
   "source": [
    "# **Load Data**"
   ]
  },
  {
   "cell_type": "code",
   "execution_count": 1,
   "id": "8872596c",
   "metadata": {},
   "outputs": [
    {
     "data": {
      "text/html": [
       "<div>\n",
       "<style scoped>\n",
       "    .dataframe tbody tr th:only-of-type {\n",
       "        vertical-align: middle;\n",
       "    }\n",
       "\n",
       "    .dataframe tbody tr th {\n",
       "        vertical-align: top;\n",
       "    }\n",
       "\n",
       "    .dataframe thead th {\n",
       "        text-align: right;\n",
       "    }\n",
       "</style>\n",
       "<table border=\"1\" class=\"dataframe\">\n",
       "  <thead>\n",
       "    <tr style=\"text-align: right;\">\n",
       "      <th></th>\n",
       "      <th>TransactionNo</th>\n",
       "      <th>CustomerNo</th>\n",
       "      <th>Date</th>\n",
       "      <th>ProductNo</th>\n",
       "      <th>ProductName</th>\n",
       "      <th>Price</th>\n",
       "      <th>Quantity</th>\n",
       "      <th>Country</th>\n",
       "    </tr>\n",
       "  </thead>\n",
       "  <tbody>\n",
       "    <tr>\n",
       "      <th>0</th>\n",
       "      <td>536597</td>\n",
       "      <td>18011</td>\n",
       "      <td>2018-12-01</td>\n",
       "      <td>22220</td>\n",
       "      <td>Cake Stand Lovebird 2 Tier White</td>\n",
       "      <td>20.45</td>\n",
       "      <td>1</td>\n",
       "      <td>United Kingdom</td>\n",
       "    </tr>\n",
       "    <tr>\n",
       "      <th>1</th>\n",
       "      <td>536523</td>\n",
       "      <td>12868</td>\n",
       "      <td>2018-12-01</td>\n",
       "      <td>22699</td>\n",
       "      <td>Roses Regency Teacup And Saucer</td>\n",
       "      <td>13.27</td>\n",
       "      <td>6</td>\n",
       "      <td>United Kingdom</td>\n",
       "    </tr>\n",
       "    <tr>\n",
       "      <th>2</th>\n",
       "      <td>536523</td>\n",
       "      <td>12868</td>\n",
       "      <td>2018-12-01</td>\n",
       "      <td>22969</td>\n",
       "      <td>Homemade Jam Scented Candles</td>\n",
       "      <td>11.74</td>\n",
       "      <td>12</td>\n",
       "      <td>United Kingdom</td>\n",
       "    </tr>\n",
       "    <tr>\n",
       "      <th>3</th>\n",
       "      <td>536523</td>\n",
       "      <td>12868</td>\n",
       "      <td>2018-12-01</td>\n",
       "      <td>21259</td>\n",
       "      <td>Victorian Sewing Box Small</td>\n",
       "      <td>16.35</td>\n",
       "      <td>2</td>\n",
       "      <td>United Kingdom</td>\n",
       "    </tr>\n",
       "    <tr>\n",
       "      <th>4</th>\n",
       "      <td>536523</td>\n",
       "      <td>12868</td>\n",
       "      <td>2018-12-01</td>\n",
       "      <td>21485</td>\n",
       "      <td>Retrospot Heart Hot Water Bottle</td>\n",
       "      <td>15.32</td>\n",
       "      <td>3</td>\n",
       "      <td>United Kingdom</td>\n",
       "    </tr>\n",
       "    <tr>\n",
       "      <th>...</th>\n",
       "      <td>...</td>\n",
       "      <td>...</td>\n",
       "      <td>...</td>\n",
       "      <td>...</td>\n",
       "      <td>...</td>\n",
       "      <td>...</td>\n",
       "      <td>...</td>\n",
       "      <td>...</td>\n",
       "    </tr>\n",
       "    <tr>\n",
       "      <th>522596</th>\n",
       "      <td>581498</td>\n",
       "      <td>14498</td>\n",
       "      <td>2019-12-09</td>\n",
       "      <td>21935</td>\n",
       "      <td>Suki Shoulder Bag</td>\n",
       "      <td>6.19</td>\n",
       "      <td>7</td>\n",
       "      <td>United Kingdom</td>\n",
       "    </tr>\n",
       "    <tr>\n",
       "      <th>522597</th>\n",
       "      <td>581498</td>\n",
       "      <td>14498</td>\n",
       "      <td>2019-12-09</td>\n",
       "      <td>21942</td>\n",
       "      <td>Skulls Design Flannel</td>\n",
       "      <td>6.19</td>\n",
       "      <td>1</td>\n",
       "      <td>United Kingdom</td>\n",
       "    </tr>\n",
       "    <tr>\n",
       "      <th>522598</th>\n",
       "      <td>581498</td>\n",
       "      <td>14498</td>\n",
       "      <td>2019-12-09</td>\n",
       "      <td>21955</td>\n",
       "      <td>Doormat Union Jack Guns And Roses</td>\n",
       "      <td>6.19</td>\n",
       "      <td>1</td>\n",
       "      <td>United Kingdom</td>\n",
       "    </tr>\n",
       "    <tr>\n",
       "      <th>522599</th>\n",
       "      <td>581498</td>\n",
       "      <td>14498</td>\n",
       "      <td>2019-12-09</td>\n",
       "      <td>21874</td>\n",
       "      <td>Gin And Tonic Mug</td>\n",
       "      <td>6.19</td>\n",
       "      <td>2</td>\n",
       "      <td>United Kingdom</td>\n",
       "    </tr>\n",
       "    <tr>\n",
       "      <th>522600</th>\n",
       "      <td>581482</td>\n",
       "      <td>17490</td>\n",
       "      <td>2019-12-09</td>\n",
       "      <td>22485</td>\n",
       "      <td>Set Of 2 Wooden Market Crates</td>\n",
       "      <td>21.47</td>\n",
       "      <td>12</td>\n",
       "      <td>United Kingdom</td>\n",
       "    </tr>\n",
       "  </tbody>\n",
       "</table>\n",
       "<p>522601 rows × 8 columns</p>\n",
       "</div>"
      ],
      "text/plain": [
       "        TransactionNo  CustomerNo        Date ProductNo  \\\n",
       "0              536597       18011  2018-12-01     22220   \n",
       "1              536523       12868  2018-12-01     22699   \n",
       "2              536523       12868  2018-12-01     22969   \n",
       "3              536523       12868  2018-12-01     21259   \n",
       "4              536523       12868  2018-12-01     21485   \n",
       "...               ...         ...         ...       ...   \n",
       "522596         581498       14498  2019-12-09     21935   \n",
       "522597         581498       14498  2019-12-09     21942   \n",
       "522598         581498       14498  2019-12-09     21955   \n",
       "522599         581498       14498  2019-12-09     21874   \n",
       "522600         581482       17490  2019-12-09     22485   \n",
       "\n",
       "                              ProductName  Price  Quantity         Country  \n",
       "0        Cake Stand Lovebird 2 Tier White  20.45         1  United Kingdom  \n",
       "1         Roses Regency Teacup And Saucer  13.27         6  United Kingdom  \n",
       "2            Homemade Jam Scented Candles  11.74        12  United Kingdom  \n",
       "3              Victorian Sewing Box Small  16.35         2  United Kingdom  \n",
       "4        Retrospot Heart Hot Water Bottle  15.32         3  United Kingdom  \n",
       "...                                   ...    ...       ...             ...  \n",
       "522596                  Suki Shoulder Bag   6.19         7  United Kingdom  \n",
       "522597              Skulls Design Flannel   6.19         1  United Kingdom  \n",
       "522598  Doormat Union Jack Guns And Roses   6.19         1  United Kingdom  \n",
       "522599                  Gin And Tonic Mug   6.19         2  United Kingdom  \n",
       "522600      Set Of 2 Wooden Market Crates  21.47        12  United Kingdom  \n",
       "\n",
       "[522601 rows x 8 columns]"
      ]
     },
     "execution_count": 1,
     "metadata": {},
     "output_type": "execute_result"
    }
   ],
   "source": [
    "import pandas as pd\n",
    "\n",
    "df_cleaned = pd.read_csv('df_cleaned.csv')\n",
    "df_cleaned"
   ]
  },
  {
   "cell_type": "code",
   "execution_count": 2,
   "id": "2a1efa86",
   "metadata": {},
   "outputs": [
    {
     "name": "stdout",
     "output_type": "stream",
     "text": [
      "<class 'pandas.core.frame.DataFrame'>\n",
      "RangeIndex: 522601 entries, 0 to 522600\n",
      "Data columns (total 8 columns):\n",
      " #   Column         Non-Null Count   Dtype  \n",
      "---  ------         --------------   -----  \n",
      " 0   TransactionNo  522601 non-null  int64  \n",
      " 1   CustomerNo     522601 non-null  int64  \n",
      " 2   Date           522601 non-null  object \n",
      " 3   ProductNo      522601 non-null  object \n",
      " 4   ProductName    522601 non-null  object \n",
      " 5   Price          522601 non-null  float64\n",
      " 6   Quantity       522601 non-null  int64  \n",
      " 7   Country        522601 non-null  object \n",
      "dtypes: float64(1), int64(3), object(4)\n",
      "memory usage: 31.9+ MB\n"
     ]
    }
   ],
   "source": [
    "df_cleaned.info()"
   ]
  },
  {
   "cell_type": "markdown",
   "id": "3f07caa3",
   "metadata": {},
   "source": [
    "# **Pivot Table**"
   ]
  },
  {
   "cell_type": "code",
   "execution_count": 3,
   "id": "0bd9a006",
   "metadata": {},
   "outputs": [
    {
     "data": {
      "text/html": [
       "<div>\n",
       "<style scoped>\n",
       "    .dataframe tbody tr th:only-of-type {\n",
       "        vertical-align: middle;\n",
       "    }\n",
       "\n",
       "    .dataframe tbody tr th {\n",
       "        vertical-align: top;\n",
       "    }\n",
       "\n",
       "    .dataframe thead th {\n",
       "        text-align: right;\n",
       "    }\n",
       "</style>\n",
       "<table border=\"1\" class=\"dataframe\">\n",
       "  <thead>\n",
       "    <tr style=\"text-align: right;\">\n",
       "      <th>ProductNo</th>\n",
       "      <th>10002</th>\n",
       "      <th>10080</th>\n",
       "      <th>10120</th>\n",
       "      <th>10123C</th>\n",
       "      <th>10124A</th>\n",
       "      <th>10124G</th>\n",
       "      <th>10125</th>\n",
       "      <th>10133</th>\n",
       "      <th>11001</th>\n",
       "      <th>15030</th>\n",
       "      <th>...</th>\n",
       "      <th>90214O</th>\n",
       "      <th>90214P</th>\n",
       "      <th>90214R</th>\n",
       "      <th>90214S</th>\n",
       "      <th>90214T</th>\n",
       "      <th>90214U</th>\n",
       "      <th>90214V</th>\n",
       "      <th>90214W</th>\n",
       "      <th>90214Y</th>\n",
       "      <th>90214Z</th>\n",
       "    </tr>\n",
       "    <tr>\n",
       "      <th>CustomerNo</th>\n",
       "      <th></th>\n",
       "      <th></th>\n",
       "      <th></th>\n",
       "      <th></th>\n",
       "      <th></th>\n",
       "      <th></th>\n",
       "      <th></th>\n",
       "      <th></th>\n",
       "      <th></th>\n",
       "      <th></th>\n",
       "      <th></th>\n",
       "      <th></th>\n",
       "      <th></th>\n",
       "      <th></th>\n",
       "      <th></th>\n",
       "      <th></th>\n",
       "      <th></th>\n",
       "      <th></th>\n",
       "      <th></th>\n",
       "      <th></th>\n",
       "      <th></th>\n",
       "    </tr>\n",
       "  </thead>\n",
       "  <tbody>\n",
       "    <tr>\n",
       "      <th>12004</th>\n",
       "      <td>0</td>\n",
       "      <td>0</td>\n",
       "      <td>0</td>\n",
       "      <td>0</td>\n",
       "      <td>0</td>\n",
       "      <td>0</td>\n",
       "      <td>0</td>\n",
       "      <td>0</td>\n",
       "      <td>0</td>\n",
       "      <td>0</td>\n",
       "      <td>...</td>\n",
       "      <td>0</td>\n",
       "      <td>0</td>\n",
       "      <td>0</td>\n",
       "      <td>0</td>\n",
       "      <td>0</td>\n",
       "      <td>0</td>\n",
       "      <td>0</td>\n",
       "      <td>0</td>\n",
       "      <td>0</td>\n",
       "      <td>0</td>\n",
       "    </tr>\n",
       "    <tr>\n",
       "      <th>12006</th>\n",
       "      <td>0</td>\n",
       "      <td>0</td>\n",
       "      <td>0</td>\n",
       "      <td>0</td>\n",
       "      <td>0</td>\n",
       "      <td>0</td>\n",
       "      <td>0</td>\n",
       "      <td>0</td>\n",
       "      <td>0</td>\n",
       "      <td>0</td>\n",
       "      <td>...</td>\n",
       "      <td>0</td>\n",
       "      <td>0</td>\n",
       "      <td>0</td>\n",
       "      <td>0</td>\n",
       "      <td>0</td>\n",
       "      <td>0</td>\n",
       "      <td>0</td>\n",
       "      <td>0</td>\n",
       "      <td>0</td>\n",
       "      <td>0</td>\n",
       "    </tr>\n",
       "    <tr>\n",
       "      <th>12008</th>\n",
       "      <td>0</td>\n",
       "      <td>0</td>\n",
       "      <td>0</td>\n",
       "      <td>0</td>\n",
       "      <td>0</td>\n",
       "      <td>0</td>\n",
       "      <td>0</td>\n",
       "      <td>0</td>\n",
       "      <td>0</td>\n",
       "      <td>0</td>\n",
       "      <td>...</td>\n",
       "      <td>0</td>\n",
       "      <td>0</td>\n",
       "      <td>0</td>\n",
       "      <td>2</td>\n",
       "      <td>0</td>\n",
       "      <td>0</td>\n",
       "      <td>0</td>\n",
       "      <td>0</td>\n",
       "      <td>0</td>\n",
       "      <td>0</td>\n",
       "    </tr>\n",
       "    <tr>\n",
       "      <th>12013</th>\n",
       "      <td>0</td>\n",
       "      <td>0</td>\n",
       "      <td>0</td>\n",
       "      <td>0</td>\n",
       "      <td>0</td>\n",
       "      <td>0</td>\n",
       "      <td>0</td>\n",
       "      <td>0</td>\n",
       "      <td>0</td>\n",
       "      <td>0</td>\n",
       "      <td>...</td>\n",
       "      <td>0</td>\n",
       "      <td>0</td>\n",
       "      <td>0</td>\n",
       "      <td>0</td>\n",
       "      <td>0</td>\n",
       "      <td>0</td>\n",
       "      <td>0</td>\n",
       "      <td>0</td>\n",
       "      <td>0</td>\n",
       "      <td>0</td>\n",
       "    </tr>\n",
       "    <tr>\n",
       "      <th>12024</th>\n",
       "      <td>0</td>\n",
       "      <td>0</td>\n",
       "      <td>0</td>\n",
       "      <td>0</td>\n",
       "      <td>0</td>\n",
       "      <td>0</td>\n",
       "      <td>0</td>\n",
       "      <td>0</td>\n",
       "      <td>0</td>\n",
       "      <td>0</td>\n",
       "      <td>...</td>\n",
       "      <td>0</td>\n",
       "      <td>0</td>\n",
       "      <td>0</td>\n",
       "      <td>0</td>\n",
       "      <td>0</td>\n",
       "      <td>0</td>\n",
       "      <td>0</td>\n",
       "      <td>0</td>\n",
       "      <td>0</td>\n",
       "      <td>0</td>\n",
       "    </tr>\n",
       "    <tr>\n",
       "      <th>...</th>\n",
       "      <td>...</td>\n",
       "      <td>...</td>\n",
       "      <td>...</td>\n",
       "      <td>...</td>\n",
       "      <td>...</td>\n",
       "      <td>...</td>\n",
       "      <td>...</td>\n",
       "      <td>...</td>\n",
       "      <td>...</td>\n",
       "      <td>...</td>\n",
       "      <td>...</td>\n",
       "      <td>...</td>\n",
       "      <td>...</td>\n",
       "      <td>...</td>\n",
       "      <td>...</td>\n",
       "      <td>...</td>\n",
       "      <td>...</td>\n",
       "      <td>...</td>\n",
       "      <td>...</td>\n",
       "      <td>...</td>\n",
       "      <td>...</td>\n",
       "    </tr>\n",
       "    <tr>\n",
       "      <th>18280</th>\n",
       "      <td>0</td>\n",
       "      <td>0</td>\n",
       "      <td>0</td>\n",
       "      <td>0</td>\n",
       "      <td>0</td>\n",
       "      <td>0</td>\n",
       "      <td>0</td>\n",
       "      <td>0</td>\n",
       "      <td>0</td>\n",
       "      <td>0</td>\n",
       "      <td>...</td>\n",
       "      <td>0</td>\n",
       "      <td>0</td>\n",
       "      <td>0</td>\n",
       "      <td>0</td>\n",
       "      <td>0</td>\n",
       "      <td>0</td>\n",
       "      <td>0</td>\n",
       "      <td>0</td>\n",
       "      <td>0</td>\n",
       "      <td>0</td>\n",
       "    </tr>\n",
       "    <tr>\n",
       "      <th>18281</th>\n",
       "      <td>0</td>\n",
       "      <td>0</td>\n",
       "      <td>0</td>\n",
       "      <td>0</td>\n",
       "      <td>0</td>\n",
       "      <td>0</td>\n",
       "      <td>0</td>\n",
       "      <td>0</td>\n",
       "      <td>0</td>\n",
       "      <td>0</td>\n",
       "      <td>...</td>\n",
       "      <td>0</td>\n",
       "      <td>0</td>\n",
       "      <td>0</td>\n",
       "      <td>0</td>\n",
       "      <td>0</td>\n",
       "      <td>0</td>\n",
       "      <td>0</td>\n",
       "      <td>0</td>\n",
       "      <td>0</td>\n",
       "      <td>0</td>\n",
       "    </tr>\n",
       "    <tr>\n",
       "      <th>18282</th>\n",
       "      <td>0</td>\n",
       "      <td>0</td>\n",
       "      <td>0</td>\n",
       "      <td>0</td>\n",
       "      <td>0</td>\n",
       "      <td>0</td>\n",
       "      <td>0</td>\n",
       "      <td>0</td>\n",
       "      <td>0</td>\n",
       "      <td>0</td>\n",
       "      <td>...</td>\n",
       "      <td>0</td>\n",
       "      <td>0</td>\n",
       "      <td>0</td>\n",
       "      <td>0</td>\n",
       "      <td>0</td>\n",
       "      <td>0</td>\n",
       "      <td>0</td>\n",
       "      <td>0</td>\n",
       "      <td>0</td>\n",
       "      <td>0</td>\n",
       "    </tr>\n",
       "    <tr>\n",
       "      <th>18283</th>\n",
       "      <td>0</td>\n",
       "      <td>0</td>\n",
       "      <td>0</td>\n",
       "      <td>0</td>\n",
       "      <td>0</td>\n",
       "      <td>0</td>\n",
       "      <td>0</td>\n",
       "      <td>0</td>\n",
       "      <td>0</td>\n",
       "      <td>0</td>\n",
       "      <td>...</td>\n",
       "      <td>0</td>\n",
       "      <td>0</td>\n",
       "      <td>0</td>\n",
       "      <td>0</td>\n",
       "      <td>0</td>\n",
       "      <td>0</td>\n",
       "      <td>0</td>\n",
       "      <td>0</td>\n",
       "      <td>0</td>\n",
       "      <td>0</td>\n",
       "    </tr>\n",
       "    <tr>\n",
       "      <th>18287</th>\n",
       "      <td>0</td>\n",
       "      <td>0</td>\n",
       "      <td>0</td>\n",
       "      <td>0</td>\n",
       "      <td>0</td>\n",
       "      <td>0</td>\n",
       "      <td>0</td>\n",
       "      <td>0</td>\n",
       "      <td>0</td>\n",
       "      <td>0</td>\n",
       "      <td>...</td>\n",
       "      <td>0</td>\n",
       "      <td>0</td>\n",
       "      <td>0</td>\n",
       "      <td>0</td>\n",
       "      <td>0</td>\n",
       "      <td>0</td>\n",
       "      <td>0</td>\n",
       "      <td>0</td>\n",
       "      <td>0</td>\n",
       "      <td>0</td>\n",
       "    </tr>\n",
       "  </tbody>\n",
       "</table>\n",
       "<p>4718 rows × 3753 columns</p>\n",
       "</div>"
      ],
      "text/plain": [
       "ProductNo   10002  10080  10120  10123C  10124A  10124G  10125  10133  11001  \\\n",
       "CustomerNo                                                                     \n",
       "12004           0      0      0       0       0       0      0      0      0   \n",
       "12006           0      0      0       0       0       0      0      0      0   \n",
       "12008           0      0      0       0       0       0      0      0      0   \n",
       "12013           0      0      0       0       0       0      0      0      0   \n",
       "12024           0      0      0       0       0       0      0      0      0   \n",
       "...           ...    ...    ...     ...     ...     ...    ...    ...    ...   \n",
       "18280           0      0      0       0       0       0      0      0      0   \n",
       "18281           0      0      0       0       0       0      0      0      0   \n",
       "18282           0      0      0       0       0       0      0      0      0   \n",
       "18283           0      0      0       0       0       0      0      0      0   \n",
       "18287           0      0      0       0       0       0      0      0      0   \n",
       "\n",
       "ProductNo   15030  ...  90214O  90214P  90214R  90214S  90214T  90214U  \\\n",
       "CustomerNo         ...                                                   \n",
       "12004           0  ...       0       0       0       0       0       0   \n",
       "12006           0  ...       0       0       0       0       0       0   \n",
       "12008           0  ...       0       0       0       2       0       0   \n",
       "12013           0  ...       0       0       0       0       0       0   \n",
       "12024           0  ...       0       0       0       0       0       0   \n",
       "...           ...  ...     ...     ...     ...     ...     ...     ...   \n",
       "18280           0  ...       0       0       0       0       0       0   \n",
       "18281           0  ...       0       0       0       0       0       0   \n",
       "18282           0  ...       0       0       0       0       0       0   \n",
       "18283           0  ...       0       0       0       0       0       0   \n",
       "18287           0  ...       0       0       0       0       0       0   \n",
       "\n",
       "ProductNo   90214V  90214W  90214Y  90214Z  \n",
       "CustomerNo                                  \n",
       "12004            0       0       0       0  \n",
       "12006            0       0       0       0  \n",
       "12008            0       0       0       0  \n",
       "12013            0       0       0       0  \n",
       "12024            0       0       0       0  \n",
       "...            ...     ...     ...     ...  \n",
       "18280            0       0       0       0  \n",
       "18281            0       0       0       0  \n",
       "18282            0       0       0       0  \n",
       "18283            0       0       0       0  \n",
       "18287            0       0       0       0  \n",
       "\n",
       "[4718 rows x 3753 columns]"
      ]
     },
     "execution_count": 3,
     "metadata": {},
     "output_type": "execute_result"
    }
   ],
   "source": [
    "# pivot table: CustomerNo x ProductNo\n",
    "pivot = df_cleaned.pivot_table(index='CustomerNo', columns='ProductNo', values='Quantity', aggfunc='sum').fillna(0)\n",
    "if (pivot % 1 == 0).all().all(): # jika nilai seluruh df bil. bulat maka convert ke int jika tidak maka tetap float\n",
    "    pivot = pivot.astype(int)\n",
    "\n",
    "pivot"
   ]
  },
  {
   "cell_type": "code",
   "execution_count": 4,
   "id": "b274ba40",
   "metadata": {},
   "outputs": [
    {
     "name": "stdout",
     "output_type": "stream",
     "text": [
      "<class 'pandas.core.frame.DataFrame'>\n",
      "Index: 4718 entries, 12004 to 18287\n",
      "Columns: 3753 entries, 10002 to 90214Z\n",
      "dtypes: int32(3753)\n",
      "memory usage: 67.6 MB\n"
     ]
    }
   ],
   "source": [
    "pivot.info()"
   ]
  },
  {
   "cell_type": "markdown",
   "id": "1819de1e",
   "metadata": {},
   "source": [
    "# **Collaboratif-Filtering**"
   ]
  },
  {
   "cell_type": "code",
   "execution_count": 6,
   "id": "c494bf66",
   "metadata": {},
   "outputs": [],
   "source": [
    "from sklearn.neighbors import NearestNeighbors\n",
    "\n",
    "# Inisialisasi model CF\n",
    "model_cf = NearestNeighbors(metric='cosine', algorithm='brute')\n",
    "model_cf.fit(pivot)\n",
    "\n",
    "def recommend_cf(customer_id, k_neighbors=5):\n",
    "    if customer_id not in pivot.index:\n",
    "        print(f\"Customer {customer_id} tidak ditemukan.\")\n",
    "        return []\n",
    "\n",
    "    customer_index = pivot.index.get_loc(customer_id)\n",
    "    query_vector = pivot.iloc[[customer_index]]\n",
    "    distances, indices = model_cf.kneighbors(query_vector, n_neighbors=k_neighbors+1)\n",
    "\n",
    "    similar_customers = [pivot.index[i] for i in indices.flatten() if pivot.index[i] != customer_id]\n",
    "    similarity_scores = 1 - distances.flatten()\n",
    "    similarity_scores = similarity_scores[1:]  # hilangkan skor untuk diri sendiri\n",
    "\n",
    "    # Buat DataFrame skor similaritas\n",
    "    sim_df = pd.DataFrame({\n",
    "        'CustomerNo': similar_customers,\n",
    "        'Similarity': similarity_scores\n",
    "    })\n",
    "\n",
    "    # Ambil data transaksi dari customer yang mirip\n",
    "    similar_data = df_cleaned[df_cleaned['CustomerNo'].isin(similar_customers)].copy()\n",
    "\n",
    "    cf_recommendations = similar_data.merge(sim_df, on='CustomerNo', how='left')\n",
    "    cf_recommendations = cf_recommendations.sort_values(by='Similarity', ascending=False)\n",
    "    cf_recommendations = cf_recommendations[['CustomerNo', 'ProductNo', 'ProductName', 'Quantity', 'Similarity']]\n",
    "    \n",
    "    return cf_recommendations"
   ]
  },
  {
   "cell_type": "code",
   "execution_count": 7,
   "id": "0c3745d5",
   "metadata": {},
   "outputs": [
    {
     "data": {
      "text/html": [
       "<div>\n",
       "<style scoped>\n",
       "    .dataframe tbody tr th:only-of-type {\n",
       "        vertical-align: middle;\n",
       "    }\n",
       "\n",
       "    .dataframe tbody tr th {\n",
       "        vertical-align: top;\n",
       "    }\n",
       "\n",
       "    .dataframe thead th {\n",
       "        text-align: right;\n",
       "    }\n",
       "</style>\n",
       "<table border=\"1\" class=\"dataframe\">\n",
       "  <thead>\n",
       "    <tr style=\"text-align: right;\">\n",
       "      <th></th>\n",
       "      <th>CustomerNo</th>\n",
       "      <th>ProductNo</th>\n",
       "      <th>ProductName</th>\n",
       "      <th>Quantity</th>\n",
       "      <th>Similarity</th>\n",
       "    </tr>\n",
       "  </thead>\n",
       "  <tbody>\n",
       "    <tr>\n",
       "      <th>184</th>\n",
       "      <td>14619</td>\n",
       "      <td>22766</td>\n",
       "      <td>Photo Frame Cornice</td>\n",
       "      <td>8</td>\n",
       "      <td>0.401777</td>\n",
       "    </tr>\n",
       "    <tr>\n",
       "      <th>194</th>\n",
       "      <td>14619</td>\n",
       "      <td>23050</td>\n",
       "      <td>Recycled Acapulco Mat Green</td>\n",
       "      <td>2</td>\n",
       "      <td>0.401777</td>\n",
       "    </tr>\n",
       "    <tr>\n",
       "      <th>201</th>\n",
       "      <td>14619</td>\n",
       "      <td>22423</td>\n",
       "      <td>Regency Cakestand 3 Tier</td>\n",
       "      <td>2</td>\n",
       "      <td>0.401777</td>\n",
       "    </tr>\n",
       "    <tr>\n",
       "      <th>200</th>\n",
       "      <td>14619</td>\n",
       "      <td>22690</td>\n",
       "      <td>Doormat Home Sweet Home Blue</td>\n",
       "      <td>2</td>\n",
       "      <td>0.401777</td>\n",
       "    </tr>\n",
       "    <tr>\n",
       "      <th>199</th>\n",
       "      <td>14619</td>\n",
       "      <td>21169</td>\n",
       "      <td>You're Confusing Me Metal Sign</td>\n",
       "      <td>12</td>\n",
       "      <td>0.401777</td>\n",
       "    </tr>\n",
       "    <tr>\n",
       "      <th>...</th>\n",
       "      <td>...</td>\n",
       "      <td>...</td>\n",
       "      <td>...</td>\n",
       "      <td>...</td>\n",
       "      <td>...</td>\n",
       "    </tr>\n",
       "    <tr>\n",
       "      <th>243</th>\n",
       "      <td>14961</td>\n",
       "      <td>21626</td>\n",
       "      <td>Vintage Union Jack Pennant</td>\n",
       "      <td>12</td>\n",
       "      <td>0.374888</td>\n",
       "    </tr>\n",
       "    <tr>\n",
       "      <th>242</th>\n",
       "      <td>14961</td>\n",
       "      <td>21232</td>\n",
       "      <td>Strawberry Ceramic Trinket Pot</td>\n",
       "      <td>12</td>\n",
       "      <td>0.374888</td>\n",
       "    </tr>\n",
       "    <tr>\n",
       "      <th>241</th>\n",
       "      <td>14961</td>\n",
       "      <td>22499</td>\n",
       "      <td>Wooden Union Jack Bunting</td>\n",
       "      <td>9</td>\n",
       "      <td>0.374888</td>\n",
       "    </tr>\n",
       "    <tr>\n",
       "      <th>240</th>\n",
       "      <td>14961</td>\n",
       "      <td>37446</td>\n",
       "      <td>Mini Cake Stand With Hanging Cakes</td>\n",
       "      <td>8</td>\n",
       "      <td>0.374888</td>\n",
       "    </tr>\n",
       "    <tr>\n",
       "      <th>585</th>\n",
       "      <td>14961</td>\n",
       "      <td>22734</td>\n",
       "      <td>Set Of 6 Ribbons Vintage Christmas</td>\n",
       "      <td>12</td>\n",
       "      <td>0.374888</td>\n",
       "    </tr>\n",
       "  </tbody>\n",
       "</table>\n",
       "<p>586 rows × 5 columns</p>\n",
       "</div>"
      ],
      "text/plain": [
       "     CustomerNo ProductNo                         ProductName  Quantity  \\\n",
       "184       14619     22766                 Photo Frame Cornice         8   \n",
       "194       14619     23050         Recycled Acapulco Mat Green         2   \n",
       "201       14619     22423            Regency Cakestand 3 Tier         2   \n",
       "200       14619     22690        Doormat Home Sweet Home Blue         2   \n",
       "199       14619     21169      You're Confusing Me Metal Sign        12   \n",
       "..          ...       ...                                 ...       ...   \n",
       "243       14961     21626          Vintage Union Jack Pennant        12   \n",
       "242       14961     21232      Strawberry Ceramic Trinket Pot        12   \n",
       "241       14961     22499           Wooden Union Jack Bunting         9   \n",
       "240       14961     37446  Mini Cake Stand With Hanging Cakes         8   \n",
       "585       14961     22734  Set Of 6 Ribbons Vintage Christmas        12   \n",
       "\n",
       "     Similarity  \n",
       "184    0.401777  \n",
       "194    0.401777  \n",
       "201    0.401777  \n",
       "200    0.401777  \n",
       "199    0.401777  \n",
       "..          ...  \n",
       "243    0.374888  \n",
       "242    0.374888  \n",
       "241    0.374888  \n",
       "240    0.374888  \n",
       "585    0.374888  \n",
       "\n",
       "[586 rows x 5 columns]"
      ]
     },
     "execution_count": 7,
     "metadata": {},
     "output_type": "execute_result"
    }
   ],
   "source": [
    "result_cf = recommend_cf(12433)\n",
    "result_cf"
   ]
  },
  {
   "cell_type": "markdown",
   "id": "8e55a289",
   "metadata": {},
   "source": [
    "# **Content-Based Filtering**"
   ]
  },
  {
   "cell_type": "code",
   "execution_count": 8,
   "id": "fab58ca0",
   "metadata": {},
   "outputs": [],
   "source": [
    "from sklearn.feature_extraction.text import TfidfVectorizer\n",
    "from sklearn.metrics.pairwise import cosine_similarity\n",
    "\n",
    "product_info = df_cleaned[['ProductNo', 'ProductName']].drop_duplicates().reset_index(drop=True)\n",
    "product_info = product_info.reset_index().rename(columns={'index': 'TFIDF_Index'})\n",
    "\n",
    "vectorizer = TfidfVectorizer()\n",
    "tfidf_matrix = vectorizer.fit_transform(product_info['ProductName'])\n",
    "\n",
    "def recommend_cb(product_no, k=9):\n",
    "    if product_no not in product_info['ProductNo'].values:\n",
    "        print(f\"ProductNo {product_no} tidak ditemukan.\")\n",
    "        return pd.DataFrame()\n",
    "    \n",
    "    idx = product_info[product_info['ProductNo'] == product_no].index[0]\n",
    "    cosine_sim = cosine_similarity(tfidf_matrix[idx], tfidf_matrix).flatten() # Count cosine similarity\n",
    "    similar_indices = cosine_sim.argsort()[-k-1:-1][::-1] # Mengambil ProdukNo mirip (selain dirinya sendiri)\n",
    "    similarity_scores = cosine_sim[similar_indices]\n",
    "    \n",
    "    recommended = product_info.iloc[similar_indices].copy() # Mengambil data produk yang mirip\n",
    "    recommended['Similarity'] = similarity_scores\n",
    "    recommended['Rank'] = range(1, len(recommended) + 1)\n",
    "    \n",
    "    return recommended[['Rank', 'ProductNo', 'ProductName', 'Similarity']]"
   ]
  },
  {
   "cell_type": "code",
   "execution_count": 9,
   "id": "a7f94f26",
   "metadata": {},
   "outputs": [
    {
     "data": {
      "text/html": [
       "<div>\n",
       "<style scoped>\n",
       "    .dataframe tbody tr th:only-of-type {\n",
       "        vertical-align: middle;\n",
       "    }\n",
       "\n",
       "    .dataframe tbody tr th {\n",
       "        vertical-align: top;\n",
       "    }\n",
       "\n",
       "    .dataframe thead th {\n",
       "        text-align: right;\n",
       "    }\n",
       "</style>\n",
       "<table border=\"1\" class=\"dataframe\">\n",
       "  <thead>\n",
       "    <tr style=\"text-align: right;\">\n",
       "      <th></th>\n",
       "      <th>Rank</th>\n",
       "      <th>ProductNo</th>\n",
       "      <th>ProductName</th>\n",
       "      <th>Similarity</th>\n",
       "    </tr>\n",
       "  </thead>\n",
       "  <tbody>\n",
       "    <tr>\n",
       "      <th>114</th>\n",
       "      <td>1</td>\n",
       "      <td>21519</td>\n",
       "      <td>Gin &amp; Tonic Diet Greeting Card</td>\n",
       "      <td>0.733021</td>\n",
       "    </tr>\n",
       "    <tr>\n",
       "      <th>350</th>\n",
       "      <td>2</td>\n",
       "      <td>21874</td>\n",
       "      <td>Gin And Tonic Mug</td>\n",
       "      <td>0.689980</td>\n",
       "    </tr>\n",
       "    <tr>\n",
       "      <th>332</th>\n",
       "      <td>3</td>\n",
       "      <td>21911</td>\n",
       "      <td>Garden Metal Sign</td>\n",
       "      <td>0.347377</td>\n",
       "    </tr>\n",
       "    <tr>\n",
       "      <th>1462</th>\n",
       "      <td>4</td>\n",
       "      <td>21172</td>\n",
       "      <td>Party Metal Sign</td>\n",
       "      <td>0.334478</td>\n",
       "    </tr>\n",
       "    <tr>\n",
       "      <th>615</th>\n",
       "      <td>5</td>\n",
       "      <td>82578</td>\n",
       "      <td>Kitchen Metal Sign</td>\n",
       "      <td>0.324055</td>\n",
       "    </tr>\n",
       "    <tr>\n",
       "      <th>617</th>\n",
       "      <td>6</td>\n",
       "      <td>21171</td>\n",
       "      <td>Bathroom Metal Sign</td>\n",
       "      <td>0.310535</td>\n",
       "    </tr>\n",
       "    <tr>\n",
       "      <th>3329</th>\n",
       "      <td>7</td>\n",
       "      <td>23013</td>\n",
       "      <td>Glass Apothecary Bottle Tonic</td>\n",
       "      <td>0.287951</td>\n",
       "    </tr>\n",
       "    <tr>\n",
       "      <th>614</th>\n",
       "      <td>8</td>\n",
       "      <td>82581</td>\n",
       "      <td>Toilet Metal Sign</td>\n",
       "      <td>0.286676</td>\n",
       "    </tr>\n",
       "    <tr>\n",
       "      <th>825</th>\n",
       "      <td>9</td>\n",
       "      <td>22673</td>\n",
       "      <td>French Garden Sign Blue Metal</td>\n",
       "      <td>0.271675</td>\n",
       "    </tr>\n",
       "  </tbody>\n",
       "</table>\n",
       "</div>"
      ],
      "text/plain": [
       "      Rank ProductNo                     ProductName  Similarity\n",
       "114      1     21519  Gin & Tonic Diet Greeting Card    0.733021\n",
       "350      2     21874               Gin And Tonic Mug    0.689980\n",
       "332      3     21911               Garden Metal Sign    0.347377\n",
       "1462     4     21172                Party Metal Sign    0.334478\n",
       "615      5     82578              Kitchen Metal Sign    0.324055\n",
       "617      6     21171             Bathroom Metal Sign    0.310535\n",
       "3329     7     23013   Glass Apothecary Bottle Tonic    0.287951\n",
       "614      8     82581               Toilet Metal Sign    0.286676\n",
       "825      9     22673   French Garden Sign Blue Metal    0.271675"
      ]
     },
     "execution_count": 9,
     "metadata": {},
     "output_type": "execute_result"
    }
   ],
   "source": [
    "recommend_cb('21175')"
   ]
  },
  {
   "cell_type": "markdown",
   "id": "12f24c94",
   "metadata": {},
   "source": [
    "# **Hybrid Recommendation**"
   ]
  },
  {
   "cell_type": "code",
   "execution_count": 10,
   "id": "99ae1e7b",
   "metadata": {},
   "outputs": [],
   "source": [
    "def recommend_hybrid(customer_id, k_neighbors=5, top_n=9):\n",
    "    # 1. Cari pelanggan mirip (Collaborative Filtering)\n",
    "    cf_results = recommend_cf(customer_id, k_neighbors=k_neighbors)\n",
    "    if cf_results is None or cf_results.empty:\n",
    "        return pd.DataFrame()\n",
    "\n",
    "    # 2. Ambil produk dari pelanggan mirip, yang belum dibeli customer saat ini\n",
    "    produk_cf = cf_results['ProductNo'].unique()\n",
    "    produk_customer = df_cleaned[df_cleaned['CustomerNo'] == customer_id]['ProductNo'].unique()\n",
    "    produk_kandidat = list(set(produk_cf) - set(produk_customer))\n",
    "    if not produk_kandidat:\n",
    "        return pd.DataFrame()\n",
    "\n",
    "    # 3. Cari produk mirip dari produk yang sudah dibeli customer\n",
    "    rekomendasi = pd.DataFrame()\n",
    "    for prod in produk_customer:\n",
    "        rekom = recommend_cb(prod, k=len(produk_kandidat))\n",
    "        rekom = rekom[rekom['ProductNo'].isin(produk_kandidat)]\n",
    "        rekomendasi = pd.concat([rekomendasi, rekom], ignore_index=True)\n",
    "\n",
    "    if rekomendasi.empty:\n",
    "        print(\"Tidak menemukan produk mirip.\")\n",
    "        df_if_recom_empty = df_cleaned[['ProductNo', 'ProductName', 'Price']].drop_duplicates().head(top_n)\n",
    "        return df_if_recom_empty\n",
    "\n",
    "    # 4. Gabungkan dan ambil top-N produk mirip\n",
    "    rekomendasi = (\n",
    "        rekomendasi.groupby(['ProductNo', 'ProductName'], as_index=False)\n",
    "        .agg({'Similarity': 'mean'})\n",
    "        .sort_values(by='Similarity', ascending=False)\n",
    "        .head(top_n)\n",
    "        .reset_index(drop=True)\n",
    "    )\n",
    "    rekomendasi['Rank'] = rekomendasi.index + 1\n",
    "    harga_produk = (df_cleaned.groupby('ProductNo', as_index=False).agg({'Price': ['min', 'max']}))\n",
    "    harga_produk.columns = ['ProductNo', 'Price_min', 'Price_max']\n",
    "    rekomendasi = rekomendasi.merge(harga_produk, on='ProductNo', how='left')\n",
    "    rekomendasi['Price_Range'] = rekomendasi.apply(\n",
    "    lambda row: f\"£{row['Price_min']:.2f} - £{row['Price_max']:.2f}\", axis=1\n",
    "    )\n",
    "\n",
    "    return rekomendasi[['Rank', 'ProductNo', 'ProductName', 'Price_Range', 'Similarity']]"
   ]
  },
  {
   "cell_type": "code",
   "execution_count": 11,
   "id": "80256a43",
   "metadata": {},
   "outputs": [
    {
     "data": {
      "text/html": [
       "<div>\n",
       "<style scoped>\n",
       "    .dataframe tbody tr th:only-of-type {\n",
       "        vertical-align: middle;\n",
       "    }\n",
       "\n",
       "    .dataframe tbody tr th {\n",
       "        vertical-align: top;\n",
       "    }\n",
       "\n",
       "    .dataframe thead th {\n",
       "        text-align: right;\n",
       "    }\n",
       "</style>\n",
       "<table border=\"1\" class=\"dataframe\">\n",
       "  <thead>\n",
       "    <tr style=\"text-align: right;\">\n",
       "      <th></th>\n",
       "      <th>Rank</th>\n",
       "      <th>ProductNo</th>\n",
       "      <th>ProductName</th>\n",
       "      <th>Price_Range</th>\n",
       "      <th>Similarity</th>\n",
       "    </tr>\n",
       "  </thead>\n",
       "  <tbody>\n",
       "    <tr>\n",
       "      <th>0</th>\n",
       "      <td>1</td>\n",
       "      <td>22535</td>\n",
       "      <td>Magic Drawing Slate Bunnies</td>\n",
       "      <td>£5.13 - £11.12</td>\n",
       "      <td>0.693181</td>\n",
       "    </tr>\n",
       "    <tr>\n",
       "      <th>1</th>\n",
       "      <td>2</td>\n",
       "      <td>22537</td>\n",
       "      <td>Magic Drawing Slate Dinosaur</td>\n",
       "      <td>£6.04 - £11.12</td>\n",
       "      <td>0.612204</td>\n",
       "    </tr>\n",
       "    <tr>\n",
       "      <th>2</th>\n",
       "      <td>3</td>\n",
       "      <td>23356</td>\n",
       "      <td>Love Hot Water Bottle</td>\n",
       "      <td>£6.02 - £23.02</td>\n",
       "      <td>0.539857</td>\n",
       "    </tr>\n",
       "    <tr>\n",
       "      <th>3</th>\n",
       "      <td>4</td>\n",
       "      <td>22113</td>\n",
       "      <td>Grey Heart Hot Water Bottle</td>\n",
       "      <td>£6.04 - £19.61</td>\n",
       "      <td>0.494966</td>\n",
       "    </tr>\n",
       "    <tr>\n",
       "      <th>4</th>\n",
       "      <td>5</td>\n",
       "      <td>22111</td>\n",
       "      <td>Scottie Dog Hot Water Bottle</td>\n",
       "      <td>£5.97 - £27.34</td>\n",
       "      <td>0.483541</td>\n",
       "    </tr>\n",
       "    <tr>\n",
       "      <th>5</th>\n",
       "      <td>6</td>\n",
       "      <td>23298</td>\n",
       "      <td>Spotty Bunting</td>\n",
       "      <td>£5.97 - £21.31</td>\n",
       "      <td>0.454815</td>\n",
       "    </tr>\n",
       "    <tr>\n",
       "      <th>6</th>\n",
       "      <td>7</td>\n",
       "      <td>84029G</td>\n",
       "      <td>Knitted Union Flag Hot Water Bottle</td>\n",
       "      <td>£6.04 - £18.93</td>\n",
       "      <td>0.450235</td>\n",
       "    </tr>\n",
       "    <tr>\n",
       "      <th>7</th>\n",
       "      <td>8</td>\n",
       "      <td>23347</td>\n",
       "      <td>I Love London Beaker</td>\n",
       "      <td>£6.04 - £12.77</td>\n",
       "      <td>0.403976</td>\n",
       "    </tr>\n",
       "    <tr>\n",
       "      <th>8</th>\n",
       "      <td>9</td>\n",
       "      <td>22633</td>\n",
       "      <td>Hand Warmer Union Jack</td>\n",
       "      <td>£6.04 - £15.32</td>\n",
       "      <td>0.400843</td>\n",
       "    </tr>\n",
       "  </tbody>\n",
       "</table>\n",
       "</div>"
      ],
      "text/plain": [
       "   Rank ProductNo                          ProductName     Price_Range  \\\n",
       "0     1     22535          Magic Drawing Slate Bunnies  £5.13 - £11.12   \n",
       "1     2     22537         Magic Drawing Slate Dinosaur  £6.04 - £11.12   \n",
       "2     3     23356                Love Hot Water Bottle  £6.02 - £23.02   \n",
       "3     4     22113          Grey Heart Hot Water Bottle  £6.04 - £19.61   \n",
       "4     5     22111         Scottie Dog Hot Water Bottle  £5.97 - £27.34   \n",
       "5     6     23298                       Spotty Bunting  £5.97 - £21.31   \n",
       "6     7    84029G  Knitted Union Flag Hot Water Bottle  £6.04 - £18.93   \n",
       "7     8     23347                 I Love London Beaker  £6.04 - £12.77   \n",
       "8     9     22633               Hand Warmer Union Jack  £6.04 - £15.32   \n",
       "\n",
       "   Similarity  \n",
       "0    0.693181  \n",
       "1    0.612204  \n",
       "2    0.539857  \n",
       "3    0.494966  \n",
       "4    0.483541  \n",
       "5    0.454815  \n",
       "6    0.450235  \n",
       "7    0.403976  \n",
       "8    0.400843  "
      ]
     },
     "execution_count": 11,
     "metadata": {},
     "output_type": "execute_result"
    }
   ],
   "source": [
    "result_hybrid = recommend_hybrid(12433)\n",
    "result_hybrid"
   ]
  },
  {
   "cell_type": "markdown",
   "id": "1213edb4",
   "metadata": {},
   "source": [
    "# **Evaluation**"
   ]
  },
  {
   "cell_type": "code",
   "execution_count": 12,
   "id": "d1e2ac84",
   "metadata": {},
   "outputs": [],
   "source": [
    "import numpy as np\n",
    "from sklearn.metrics.pairwise import cosine_distances\n",
    "from sklearn.feature_extraction.text import TfidfVectorizer\n",
    "\n",
    "def count_diversity(df_produk):\n",
    "    if df_produk.empty or len(df_produk) == 1:\n",
    "        return 0.0\n",
    "\n",
    "    tfidf = TfidfVectorizer()\n",
    "    tfidf_matrix = tfidf.fit_transform(df_produk['ProductName'])\n",
    "\n",
    "    distances = cosine_distances(tfidf_matrix)\n",
    "    n = len(df_produk)\n",
    "    total_dist = distances[np.triu_indices(n, k=1)].sum()\n",
    "    count = len(np.triu_indices(n, k=1)[0])\n",
    "\n",
    "    return total_dist / count if count != 0 else 0.0"
   ]
  },
  {
   "cell_type": "code",
   "execution_count": 13,
   "id": "aa87b86f",
   "metadata": {},
   "outputs": [
    {
     "data": {
      "text/plain": [
       "0.8969766303064203"
      ]
     },
     "execution_count": 13,
     "metadata": {},
     "output_type": "execute_result"
    }
   ],
   "source": [
    "count_diversity(result_hybrid)"
   ]
  },
  {
   "cell_type": "markdown",
   "id": "3669873d",
   "metadata": {},
   "source": [
    "# **Popular Product**"
   ]
  },
  {
   "cell_type": "code",
   "execution_count": 16,
   "id": "e402189f",
   "metadata": {},
   "outputs": [
    {
     "data": {
      "text/html": [
       "<div>\n",
       "<style scoped>\n",
       "    .dataframe tbody tr th:only-of-type {\n",
       "        vertical-align: middle;\n",
       "    }\n",
       "\n",
       "    .dataframe tbody tr th {\n",
       "        vertical-align: top;\n",
       "    }\n",
       "\n",
       "    .dataframe thead th {\n",
       "        text-align: right;\n",
       "    }\n",
       "</style>\n",
       "<table border=\"1\" class=\"dataframe\">\n",
       "  <thead>\n",
       "    <tr style=\"text-align: right;\">\n",
       "      <th></th>\n",
       "      <th>ProductNo</th>\n",
       "      <th>ProductName</th>\n",
       "      <th>Price Range</th>\n",
       "    </tr>\n",
       "  </thead>\n",
       "  <tbody>\n",
       "    <tr>\n",
       "      <th>0</th>\n",
       "      <td>21212</td>\n",
       "      <td>Pack Of 72 Retrospot Cake Cases</td>\n",
       "      <td>£5.97 - £15.37</td>\n",
       "    </tr>\n",
       "    <tr>\n",
       "      <th>1</th>\n",
       "      <td>22197</td>\n",
       "      <td>Popcorn Holder</td>\n",
       "      <td>£5.97 - £12.77</td>\n",
       "    </tr>\n",
       "    <tr>\n",
       "      <th>2</th>\n",
       "      <td>23084</td>\n",
       "      <td>Rabbit Night Light</td>\n",
       "      <td>£5.97 - £15.33</td>\n",
       "    </tr>\n",
       "    <tr>\n",
       "      <th>3</th>\n",
       "      <td>23166</td>\n",
       "      <td>Medium Ceramic Top Storage Jar</td>\n",
       "      <td>£5.97 - £12.77</td>\n",
       "    </tr>\n",
       "    <tr>\n",
       "      <th>4</th>\n",
       "      <td>23843</td>\n",
       "      <td>Paper Craft Little Birdie</td>\n",
       "      <td>£12.38</td>\n",
       "    </tr>\n",
       "    <tr>\n",
       "      <th>5</th>\n",
       "      <td>84077</td>\n",
       "      <td>World War 2 Gliders Asstd Designs</td>\n",
       "      <td>£6.04 - £10.90</td>\n",
       "    </tr>\n",
       "    <tr>\n",
       "      <th>6</th>\n",
       "      <td>84879</td>\n",
       "      <td>Assorted Colour Bird Ornament</td>\n",
       "      <td>£5.97 - £13.52</td>\n",
       "    </tr>\n",
       "    <tr>\n",
       "      <th>7</th>\n",
       "      <td>85099B</td>\n",
       "      <td>Jumbo Bag Red Retrospot</td>\n",
       "      <td>£5.13 - £7.66</td>\n",
       "    </tr>\n",
       "    <tr>\n",
       "      <th>8</th>\n",
       "      <td>85123A</td>\n",
       "      <td>Cream Hanging Heart T-Light Holder</td>\n",
       "      <td>£5.97 - £17.19</td>\n",
       "    </tr>\n",
       "  </tbody>\n",
       "</table>\n",
       "</div>"
      ],
      "text/plain": [
       "  ProductNo                         ProductName     Price Range\n",
       "0     21212     Pack Of 72 Retrospot Cake Cases  £5.97 - £15.37\n",
       "1     22197                      Popcorn Holder  £5.97 - £12.77\n",
       "2     23084                  Rabbit Night Light  £5.97 - £15.33\n",
       "3     23166      Medium Ceramic Top Storage Jar  £5.97 - £12.77\n",
       "4     23843           Paper Craft Little Birdie          £12.38\n",
       "5     84077   World War 2 Gliders Asstd Designs  £6.04 - £10.90\n",
       "6     84879       Assorted Colour Bird Ornament  £5.97 - £13.52\n",
       "7    85099B             Jumbo Bag Red Retrospot   £5.13 - £7.66\n",
       "8    85123A  Cream Hanging Heart T-Light Holder  £5.97 - £17.19"
      ]
     },
     "execution_count": 16,
     "metadata": {},
     "output_type": "execute_result"
    }
   ],
   "source": [
    "top_products = (\n",
    "    df_cleaned.groupby(['ProductNo', 'ProductName'])['Quantity'].sum().reset_index()\n",
    "    .sort_values(by='Quantity', ascending=False).head(9))\n",
    "\n",
    "top_product_nos = top_products['ProductNo']\n",
    "filtered_df = df_cleaned[df_cleaned['ProductNo'].isin(top_product_nos)]\n",
    "\n",
    "price_range = (\n",
    "    filtered_df.groupby(['ProductNo', 'ProductName'])['Price']\n",
    "    .agg(['min', 'max'])\n",
    "    .reset_index()\n",
    ")\n",
    "\n",
    "price_range['Price Range'] = price_range.apply(\n",
    "    lambda row: f\"£{row['min']:.2f} - £{row['max']:.2f}\" if row['min'] != row['max'] else f\"£{row['min']:.2f}\",\n",
    "    axis=1\n",
    ")\n",
    "\n",
    "nine_popular_product = price_range[['ProductNo', 'ProductName', 'Price Range']]\n",
    "nine_popular_product = nine_popular_product.sort_values(by='ProductNo').reset_index(drop=True)\n",
    "nine_popular_product"
   ]
  },
  {
   "cell_type": "code",
   "execution_count": 17,
   "id": "383d944c",
   "metadata": {},
   "outputs": [],
   "source": [
    "# save popular product\n",
    "nine_popular_product.to_csv('top9_popular_product.csv', index=False)"
   ]
  },
  {
   "cell_type": "markdown",
   "id": "a78b082d",
   "metadata": {},
   "source": [
    "# **Eksplorasi Statistik**\n",
    "## **Total Transaksi**"
   ]
  },
  {
   "cell_type": "code",
   "execution_count": 19,
   "id": "22bac7aa",
   "metadata": {},
   "outputs": [
    {
     "data": {
      "text/plain": [
       "522601"
      ]
     },
     "execution_count": 19,
     "metadata": {},
     "output_type": "execute_result"
    }
   ],
   "source": [
    "total_transaksi = df_cleaned['TransactionNo'].count()\n",
    "total_transaksi"
   ]
  },
  {
   "cell_type": "markdown",
   "id": "831c675e",
   "metadata": {},
   "source": [
    "## **Total Product**"
   ]
  },
  {
   "cell_type": "code",
   "execution_count": 21,
   "id": "09b5ad24",
   "metadata": {},
   "outputs": [
    {
     "data": {
      "text/plain": [
       "3753"
      ]
     },
     "execution_count": 21,
     "metadata": {},
     "output_type": "execute_result"
    }
   ],
   "source": [
    "total_product = len(df_cleaned['ProductName'].unique())\n",
    "total_product"
   ]
  },
  {
   "cell_type": "markdown",
   "id": "8e5d2d22",
   "metadata": {},
   "source": [
    "## **Total Customer**"
   ]
  },
  {
   "cell_type": "code",
   "execution_count": 22,
   "id": "7eec893e",
   "metadata": {},
   "outputs": [
    {
     "data": {
      "text/plain": [
       "4718"
      ]
     },
     "execution_count": 22,
     "metadata": {},
     "output_type": "execute_result"
    }
   ],
   "source": [
    "total_customer = len(df_cleaned['CustomerNo'].unique())\n",
    "total_customer"
   ]
  },
  {
   "cell_type": "markdown",
   "id": "e3c77cd5",
   "metadata": {},
   "source": [
    "## **Total Penjualan**"
   ]
  },
  {
   "cell_type": "code",
   "execution_count": 47,
   "id": "cf555195",
   "metadata": {},
   "outputs": [
    {
     "data": {
      "text/plain": [
       "62781304.54"
      ]
     },
     "execution_count": 47,
     "metadata": {},
     "output_type": "execute_result"
    }
   ],
   "source": [
    "total_penjualan = (df_cleaned['Price']*df_cleaned['Quantity']).sum().round(2)\n",
    "total_penjualan"
   ]
  },
  {
   "cell_type": "markdown",
   "id": "d2a59abb",
   "metadata": {},
   "source": [
    "## **Barchart: Total penjualan per-Negara**"
   ]
  },
  {
   "cell_type": "code",
   "execution_count": 57,
   "id": "49164ed5",
   "metadata": {},
   "outputs": [
    {
     "data": {
      "application/vnd.plotly.v1+json": {
       "config": {
        "plotlyServerURL": "https://plot.ly"
       },
       "data": [
        {
         "alignmentgroup": "True",
         "hovertemplate": "Negara=%{x}<br>Total Penjualan (£)=%{y}<extra></extra>",
         "legendgroup": "",
         "marker": {
          "color": "#00FFDE",
          "pattern": {
           "shape": ""
          }
         },
         "name": "",
         "offsetgroup": "",
         "orientation": "v",
         "showlegend": false,
         "textposition": "auto",
         "texttemplate": "%{y:.2s}",
         "type": "bar",
         "x": [
          "United Kingdom",
          "Netherlands",
          "EIRE",
          "Germany",
          "France",
          "Australia",
          "Sweden",
          "Switzerland",
          "Japan",
          "Spain",
          "Belgium",
          "Norway",
          "Portugal",
          "Finland",
          "Denmark",
          "Channel Islands",
          "Italy",
          "Austria",
          "Singapore",
          "Cyprus",
          "Israel",
          "Iceland",
          "USA",
          "Unspecified",
          "Canada",
          "Hong Kong",
          "Poland",
          "Malta",
          "United Arab Emirates",
          "Greece",
          "Lithuania",
          "Czech Republic",
          "European Community",
          "Lebanon",
          "Brazil",
          "RSA",
          "Bahrain",
          "Saudi Arabia"
         ],
         "xaxis": "x",
         "y": [
          52346795.6,
          2151553.59,
          1711819.39,
          1369839.6199999999,
          1329903.39,
          995414.01,
          401879.89,
          361691.96,
          293155.44,
          280843.8,
          272131.88,
          188612.52,
          175959.28,
          120972.15,
          101083.99,
          95932.24,
          78536.24,
          69147.26,
          63480.95,
          61614.64,
          54722.14,
          38307.42,
          32846.409999999996,
          32638.739999999998,
          30398.67,
          27006.66,
          19793.11,
          12717.23,
          11966.26,
          9666.53,
          8188.08,
          7674.44,
          6210.23,
          5692.32,
          4652.2699999999995,
          4259.83,
          3226.8599999999997,
          969.5
         ],
         "yaxis": "y"
        }
       ],
       "layout": {
        "barmode": "relative",
        "legend": {
         "tracegroupgap": 0
        },
        "plot_bgcolor": "white",
        "template": {
         "data": {
          "candlestick": [
           {
            "decreasing": {
             "line": {
              "color": "#000033"
             }
            },
            "increasing": {
             "line": {
              "color": "#000032"
             }
            },
            "type": "candlestick"
           }
          ],
          "contour": [
           {
            "colorscale": [
             [
              0,
              "#000011"
             ],
             [
              0.1111111111111111,
              "#000012"
             ],
             [
              0.2222222222222222,
              "#000013"
             ],
             [
              0.3333333333333333,
              "#000014"
             ],
             [
              0.4444444444444444,
              "#000015"
             ],
             [
              0.5555555555555556,
              "#000016"
             ],
             [
              0.6666666666666666,
              "#000017"
             ],
             [
              0.7777777777777778,
              "#000018"
             ],
             [
              0.8888888888888888,
              "#000019"
             ],
             [
              1,
              "#000020"
             ]
            ],
            "type": "contour"
           }
          ],
          "contourcarpet": [
           {
            "colorscale": [
             [
              0,
              "#000011"
             ],
             [
              0.1111111111111111,
              "#000012"
             ],
             [
              0.2222222222222222,
              "#000013"
             ],
             [
              0.3333333333333333,
              "#000014"
             ],
             [
              0.4444444444444444,
              "#000015"
             ],
             [
              0.5555555555555556,
              "#000016"
             ],
             [
              0.6666666666666666,
              "#000017"
             ],
             [
              0.7777777777777778,
              "#000018"
             ],
             [
              0.8888888888888888,
              "#000019"
             ],
             [
              1,
              "#000020"
             ]
            ],
            "type": "contourcarpet"
           }
          ],
          "heatmap": [
           {
            "colorscale": [
             [
              0,
              "#000011"
             ],
             [
              0.1111111111111111,
              "#000012"
             ],
             [
              0.2222222222222222,
              "#000013"
             ],
             [
              0.3333333333333333,
              "#000014"
             ],
             [
              0.4444444444444444,
              "#000015"
             ],
             [
              0.5555555555555556,
              "#000016"
             ],
             [
              0.6666666666666666,
              "#000017"
             ],
             [
              0.7777777777777778,
              "#000018"
             ],
             [
              0.8888888888888888,
              "#000019"
             ],
             [
              1,
              "#000020"
             ]
            ],
            "type": "heatmap"
           }
          ],
          "histogram2d": [
           {
            "colorscale": [
             [
              0,
              "#000011"
             ],
             [
              0.1111111111111111,
              "#000012"
             ],
             [
              0.2222222222222222,
              "#000013"
             ],
             [
              0.3333333333333333,
              "#000014"
             ],
             [
              0.4444444444444444,
              "#000015"
             ],
             [
              0.5555555555555556,
              "#000016"
             ],
             [
              0.6666666666666666,
              "#000017"
             ],
             [
              0.7777777777777778,
              "#000018"
             ],
             [
              0.8888888888888888,
              "#000019"
             ],
             [
              1,
              "#000020"
             ]
            ],
            "type": "histogram2d"
           }
          ],
          "icicle": [
           {
            "textfont": {
             "color": "white"
            },
            "type": "icicle"
           }
          ],
          "sankey": [
           {
            "textfont": {
             "color": "#000036"
            },
            "type": "sankey"
           }
          ],
          "scatter": [
           {
            "marker": {
             "line": {
              "width": 0
             }
            },
            "type": "scatter"
           }
          ],
          "table": [
           {
            "cells": {
             "fill": {
              "color": "#000038"
             },
             "font": {
              "color": "#000037"
             },
             "line": {
              "color": "#000039"
             }
            },
            "header": {
             "fill": {
              "color": "#000040"
             },
             "font": {
              "color": "#000036"
             },
             "line": {
              "color": "#000039"
             }
            },
            "type": "table"
           }
          ],
          "waterfall": [
           {
            "connector": {
             "line": {
              "color": "#000036",
              "width": 2
             }
            },
            "decreasing": {
             "marker": {
              "color": "#000033"
             }
            },
            "increasing": {
             "marker": {
              "color": "#000032"
             }
            },
            "totals": {
             "marker": {
              "color": "#000034"
             }
            },
            "type": "waterfall"
           }
          ]
         },
         "layout": {
          "coloraxis": {
           "colorscale": [
            [
             0,
             "#000011"
            ],
            [
             0.1111111111111111,
             "#000012"
            ],
            [
             0.2222222222222222,
             "#000013"
            ],
            [
             0.3333333333333333,
             "#000014"
            ],
            [
             0.4444444444444444,
             "#000015"
            ],
            [
             0.5555555555555556,
             "#000016"
            ],
            [
             0.6666666666666666,
             "#000017"
            ],
            [
             0.7777777777777778,
             "#000018"
            ],
            [
             0.8888888888888888,
             "#000019"
            ],
            [
             1,
             "#000020"
            ]
           ]
          },
          "colorscale": {
           "diverging": [
            [
             0,
             "#000021"
            ],
            [
             0.1,
             "#000022"
            ],
            [
             0.2,
             "#000023"
            ],
            [
             0.3,
             "#000024"
            ],
            [
             0.4,
             "#000025"
            ],
            [
             0.5,
             "#000026"
            ],
            [
             0.6,
             "#000027"
            ],
            [
             0.7,
             "#000028"
            ],
            [
             0.8,
             "#000029"
            ],
            [
             0.9,
             "#000030"
            ],
            [
             1,
             "#000031"
            ]
           ],
           "sequential": [
            [
             0,
             "#000011"
            ],
            [
             0.1111111111111111,
             "#000012"
            ],
            [
             0.2222222222222222,
             "#000013"
            ],
            [
             0.3333333333333333,
             "#000014"
            ],
            [
             0.4444444444444444,
             "#000015"
            ],
            [
             0.5555555555555556,
             "#000016"
            ],
            [
             0.6666666666666666,
             "#000017"
            ],
            [
             0.7777777777777778,
             "#000018"
            ],
            [
             0.8888888888888888,
             "#000019"
            ],
            [
             1,
             "#000020"
            ]
           ],
           "sequentialminus": [
            [
             0,
             "#000011"
            ],
            [
             0.1111111111111111,
             "#000012"
            ],
            [
             0.2222222222222222,
             "#000013"
            ],
            [
             0.3333333333333333,
             "#000014"
            ],
            [
             0.4444444444444444,
             "#000015"
            ],
            [
             0.5555555555555556,
             "#000016"
            ],
            [
             0.6666666666666666,
             "#000017"
            ],
            [
             0.7777777777777778,
             "#000018"
            ],
            [
             0.8888888888888888,
             "#000019"
            ],
            [
             1,
             "#000020"
            ]
           ]
          },
          "colorway": [
           "#000001",
           "#000002",
           "#000003",
           "#000004",
           "#000005",
           "#000006",
           "#000007",
           "#000008",
           "#000009",
           "#000010"
          ]
         }
        },
        "title": {
         "text": "Total Penjualan per Negara",
         "x": 0.5,
         "xanchor": "center"
        },
        "xaxis": {
         "anchor": "y",
         "domain": [
          0,
          1
         ],
         "tickangle": -45,
         "title": {
          "text": "Negara"
         }
        },
        "yaxis": {
         "anchor": "x",
         "domain": [
          0,
          1
         ],
         "title": {
          "text": "Total Penjualan (£)"
         }
        }
       }
      }
     },
     "metadata": {},
     "output_type": "display_data"
    }
   ],
   "source": [
    "import plotly.express as px\n",
    "\n",
    "total = df_cleaned.copy()\n",
    "total['Total'] = total['Price'] * total['Quantity']\n",
    "total_penjualan_perCountry = total.groupby('Country')['Total'].sum().reset_index()\n",
    "total_penjualan_perCountry = total_penjualan_perCountry.sort_values(by='Total', ascending=False)\n",
    "\n",
    "fig = px.bar(\n",
    "    total_penjualan_perCountry,\n",
    "    x='Country',\n",
    "    y='Total',\n",
    "    title='Total Penjualan per-Negara',\n",
    "    labels={'Total': 'Total Penjualan (£)', 'Country': 'Negara'},\n",
    "    text_auto='.2s',\n",
    "    color_discrete_sequence=['#00FFDE']\n",
    ")\n",
    "\n",
    "fig.update_layout(\n",
    "    title={'text': 'Total Penjualan per Negara','x': 0.5,'xanchor': 'center'},\n",
    "    xaxis_tickangle=-45,\n",
    "    plot_bgcolor='white',\n",
    "    yaxis_title='Total Penjualan (£)',\n",
    "    xaxis_title='Negara',\n",
    ")"
   ]
  },
  {
   "cell_type": "code",
   "execution_count": 54,
   "id": "9e691f2e",
   "metadata": {},
   "outputs": [
    {
     "data": {
      "application/vnd.plotly.v1+json": {
       "config": {
        "plotlyServerURL": "https://plot.ly"
       },
       "data": [
        {
         "hovertemplate": "Bulan=%{x}<br>Total Penjualan (£)=%{y}<extra></extra>",
         "legendgroup": "",
         "line": {
          "color": "#00FFDE",
          "dash": "solid"
         },
         "marker": {
          "color": "#00FFDE",
          "symbol": "circle"
         },
         "mode": "lines+markers",
         "name": "",
         "orientation": "v",
         "showlegend": false,
         "type": "scatter",
         "x": [
          "2018-12-01T00:00:00",
          "2019-01-01T00:00:00",
          "2019-02-01T00:00:00",
          "2019-03-01T00:00:00",
          "2019-04-01T00:00:00",
          "2019-05-01T00:00:00",
          "2019-06-01T00:00:00",
          "2019-07-01T00:00:00",
          "2019-08-01T00:00:00",
          "2019-09-01T00:00:00",
          "2019-10-01T00:00:00",
          "2019-11-01T00:00:00",
          "2019-12-01T00:00:00"
         ],
         "xaxis": "x",
         "y": [
          4397648.39,
          4548423.47,
          3327342.64,
          4384669.82,
          3579310.06,
          4569952.21,
          4486050.15,
          4571494.88,
          4749801.2299999995,
          6613772.79,
          7212279.85,
          7828489.53,
          2512069.52
         ],
         "yaxis": "y"
        }
       ],
       "layout": {
        "font": {
         "color": "white"
        },
        "legend": {
         "tracegroupgap": 0
        },
        "paper_bgcolor": "#222831",
        "plot_bgcolor": "#222831",
        "template": {
         "data": {
          "candlestick": [
           {
            "decreasing": {
             "line": {
              "color": "#000033"
             }
            },
            "increasing": {
             "line": {
              "color": "#000032"
             }
            },
            "type": "candlestick"
           }
          ],
          "contour": [
           {
            "colorscale": [
             [
              0,
              "#000011"
             ],
             [
              0.1111111111111111,
              "#000012"
             ],
             [
              0.2222222222222222,
              "#000013"
             ],
             [
              0.3333333333333333,
              "#000014"
             ],
             [
              0.4444444444444444,
              "#000015"
             ],
             [
              0.5555555555555556,
              "#000016"
             ],
             [
              0.6666666666666666,
              "#000017"
             ],
             [
              0.7777777777777778,
              "#000018"
             ],
             [
              0.8888888888888888,
              "#000019"
             ],
             [
              1,
              "#000020"
             ]
            ],
            "type": "contour"
           }
          ],
          "contourcarpet": [
           {
            "colorscale": [
             [
              0,
              "#000011"
             ],
             [
              0.1111111111111111,
              "#000012"
             ],
             [
              0.2222222222222222,
              "#000013"
             ],
             [
              0.3333333333333333,
              "#000014"
             ],
             [
              0.4444444444444444,
              "#000015"
             ],
             [
              0.5555555555555556,
              "#000016"
             ],
             [
              0.6666666666666666,
              "#000017"
             ],
             [
              0.7777777777777778,
              "#000018"
             ],
             [
              0.8888888888888888,
              "#000019"
             ],
             [
              1,
              "#000020"
             ]
            ],
            "type": "contourcarpet"
           }
          ],
          "heatmap": [
           {
            "colorscale": [
             [
              0,
              "#000011"
             ],
             [
              0.1111111111111111,
              "#000012"
             ],
             [
              0.2222222222222222,
              "#000013"
             ],
             [
              0.3333333333333333,
              "#000014"
             ],
             [
              0.4444444444444444,
              "#000015"
             ],
             [
              0.5555555555555556,
              "#000016"
             ],
             [
              0.6666666666666666,
              "#000017"
             ],
             [
              0.7777777777777778,
              "#000018"
             ],
             [
              0.8888888888888888,
              "#000019"
             ],
             [
              1,
              "#000020"
             ]
            ],
            "type": "heatmap"
           }
          ],
          "histogram2d": [
           {
            "colorscale": [
             [
              0,
              "#000011"
             ],
             [
              0.1111111111111111,
              "#000012"
             ],
             [
              0.2222222222222222,
              "#000013"
             ],
             [
              0.3333333333333333,
              "#000014"
             ],
             [
              0.4444444444444444,
              "#000015"
             ],
             [
              0.5555555555555556,
              "#000016"
             ],
             [
              0.6666666666666666,
              "#000017"
             ],
             [
              0.7777777777777778,
              "#000018"
             ],
             [
              0.8888888888888888,
              "#000019"
             ],
             [
              1,
              "#000020"
             ]
            ],
            "type": "histogram2d"
           }
          ],
          "icicle": [
           {
            "textfont": {
             "color": "white"
            },
            "type": "icicle"
           }
          ],
          "sankey": [
           {
            "textfont": {
             "color": "#000036"
            },
            "type": "sankey"
           }
          ],
          "scatter": [
           {
            "marker": {
             "line": {
              "width": 0
             }
            },
            "type": "scatter"
           }
          ],
          "table": [
           {
            "cells": {
             "fill": {
              "color": "#000038"
             },
             "font": {
              "color": "#000037"
             },
             "line": {
              "color": "#000039"
             }
            },
            "header": {
             "fill": {
              "color": "#000040"
             },
             "font": {
              "color": "#000036"
             },
             "line": {
              "color": "#000039"
             }
            },
            "type": "table"
           }
          ],
          "waterfall": [
           {
            "connector": {
             "line": {
              "color": "#000036",
              "width": 2
             }
            },
            "decreasing": {
             "marker": {
              "color": "#000033"
             }
            },
            "increasing": {
             "marker": {
              "color": "#000032"
             }
            },
            "totals": {
             "marker": {
              "color": "#000034"
             }
            },
            "type": "waterfall"
           }
          ]
         },
         "layout": {
          "coloraxis": {
           "colorscale": [
            [
             0,
             "#000011"
            ],
            [
             0.1111111111111111,
             "#000012"
            ],
            [
             0.2222222222222222,
             "#000013"
            ],
            [
             0.3333333333333333,
             "#000014"
            ],
            [
             0.4444444444444444,
             "#000015"
            ],
            [
             0.5555555555555556,
             "#000016"
            ],
            [
             0.6666666666666666,
             "#000017"
            ],
            [
             0.7777777777777778,
             "#000018"
            ],
            [
             0.8888888888888888,
             "#000019"
            ],
            [
             1,
             "#000020"
            ]
           ]
          },
          "colorscale": {
           "diverging": [
            [
             0,
             "#000021"
            ],
            [
             0.1,
             "#000022"
            ],
            [
             0.2,
             "#000023"
            ],
            [
             0.3,
             "#000024"
            ],
            [
             0.4,
             "#000025"
            ],
            [
             0.5,
             "#000026"
            ],
            [
             0.6,
             "#000027"
            ],
            [
             0.7,
             "#000028"
            ],
            [
             0.8,
             "#000029"
            ],
            [
             0.9,
             "#000030"
            ],
            [
             1,
             "#000031"
            ]
           ],
           "sequential": [
            [
             0,
             "#000011"
            ],
            [
             0.1111111111111111,
             "#000012"
            ],
            [
             0.2222222222222222,
             "#000013"
            ],
            [
             0.3333333333333333,
             "#000014"
            ],
            [
             0.4444444444444444,
             "#000015"
            ],
            [
             0.5555555555555556,
             "#000016"
            ],
            [
             0.6666666666666666,
             "#000017"
            ],
            [
             0.7777777777777778,
             "#000018"
            ],
            [
             0.8888888888888888,
             "#000019"
            ],
            [
             1,
             "#000020"
            ]
           ],
           "sequentialminus": [
            [
             0,
             "#000011"
            ],
            [
             0.1111111111111111,
             "#000012"
            ],
            [
             0.2222222222222222,
             "#000013"
            ],
            [
             0.3333333333333333,
             "#000014"
            ],
            [
             0.4444444444444444,
             "#000015"
            ],
            [
             0.5555555555555556,
             "#000016"
            ],
            [
             0.6666666666666666,
             "#000017"
            ],
            [
             0.7777777777777778,
             "#000018"
            ],
            [
             0.8888888888888888,
             "#000019"
            ],
            [
             1,
             "#000020"
            ]
           ]
          },
          "colorway": [
           "#000001",
           "#000002",
           "#000003",
           "#000004",
           "#000005",
           "#000006",
           "#000007",
           "#000008",
           "#000009",
           "#000010"
          ]
         }
        },
        "title": {
         "text": "Total Penjualan per-Bulan",
         "x": 0.5,
         "xanchor": "center"
        },
        "xaxis": {
         "anchor": "y",
         "domain": [
          0,
          1
         ],
         "dtick": "M1",
         "tickmode": "linear",
         "title": {
          "text": "Bulan"
         }
        },
        "yaxis": {
         "anchor": "x",
         "domain": [
          0,
          1
         ],
         "title": {
          "text": "Total Penjualan (£)"
         }
        }
       }
      }
     },
     "metadata": {},
     "output_type": "display_data"
    }
   ],
   "source": [
    "timeseries = df_cleaned.copy()\n",
    "timeseries['Date'] = pd.to_datetime(timeseries['Date'])\n",
    "timeseries['Total'] = timeseries['Price'] * timeseries['Quantity']\n",
    "timeseries['Month'] = timeseries['Date'].dt.to_period('M').dt.to_timestamp()\n",
    "total_bulanan = timeseries.groupby('Month')['Total'].sum().reset_index()\n",
    "\n",
    "fig = px.line(\n",
    "    total_bulanan,\n",
    "    x='Month',\n",
    "    y='Total',\n",
    "    title='Total Penjualan per-Bulan',\n",
    "    labels={'Month': 'Bulan', 'Total': 'Total Penjualan (£)'},\n",
    "    markers=True\n",
    ")\n",
    "\n",
    "fig.update_traces(line=dict(color='#00FFDE'), marker=dict(color='#00FFDE'))\n",
    "fig.update_layout(\n",
    "    plot_bgcolor='#222831',\n",
    "    paper_bgcolor='#222831',\n",
    "    font_color='white',\n",
    "    title={'text': 'Total Penjualan per-Bulan','x': 0.5,'xanchor': 'center'},\n",
    "    xaxis=dict(tickmode='linear', dtick='M1')\n",
    "    )"
   ]
  }
 ],
 "metadata": {
  "kernelspec": {
   "display_name": "Python 3",
   "language": "python",
   "name": "python3"
  },
  "language_info": {
   "codemirror_mode": {
    "name": "ipython",
    "version": 3
   },
   "file_extension": ".py",
   "mimetype": "text/x-python",
   "name": "python",
   "nbconvert_exporter": "python",
   "pygments_lexer": "ipython3",
   "version": "3.11.4"
  }
 },
 "nbformat": 4,
 "nbformat_minor": 5
}
